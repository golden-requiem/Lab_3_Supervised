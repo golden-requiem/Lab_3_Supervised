{
    "metadata": {
        "kernelspec": {
            "name": "python3",
            "display_name": "Python 3 (ipykernel)",
            "language": "python"
        }
    },
    "nbformat": 4,
    "nbformat_minor": 2,
    "cells": [
        {
            "cell_type": "code",
            "execution_count": 1,
            "metadata": {},
            "outputs": [],
            "source": [
                "#import pandas, scipy and sklearn packages\n",
                "\n",
                "import pandas as pd\n",
                "import scipy.stats\n",
                "from sklearn.tree import DecisionTreeClassifier\n",
                "from sklearn.model_selection import train_test_split\n",
                "from sklearn.metrics import accuracy_score\n",
                "from sklearn import tree\n",
                "from itertools import repeat\n",
                "import numpy as np"
            ]
        },
        {
            "cell_type": "code",
            "execution_count": 2,
            "metadata": {},
            "outputs": [
                {
                    "data": {
                        "text/html": "\u003cdiv\u003e\n\u003cstyle scoped\u003e\n    .dataframe tbody tr th:only-of-type {\n        vertical-align: middle;\n    }\n\n    .dataframe tbody tr th {\n        vertical-align: top;\n    }\n\n    .dataframe thead th {\n        text-align: right;\n    }\n\u003c/style\u003e\n\u003ctable border=\"1\" class=\"dataframe\"\u003e\n  \u003cthead\u003e\n    \u003ctr style=\"text-align: right;\"\u003e\n      \u003cth\u003e\u003c/th\u003e\n      \u003cth\u003emean_radius\u003c/th\u003e\n      \u003cth\u003emean_texture\u003c/th\u003e\n      \u003cth\u003emean_perimeter\u003c/th\u003e\n      \u003cth\u003emean_area\u003c/th\u003e\n      \u003cth\u003emean_smoothness\u003c/th\u003e\n      \u003cth\u003ediagnosis\u003c/th\u003e\n    \u003c/tr\u003e\n  \u003c/thead\u003e\n  \u003ctbody\u003e\n    \u003ctr\u003e\n      \u003cth\u003e0\u003c/th\u003e\n      \u003ctd\u003e17.99\u003c/td\u003e\n      \u003ctd\u003e10.38\u003c/td\u003e\n      \u003ctd\u003e122.80\u003c/td\u003e\n      \u003ctd\u003e1001.0\u003c/td\u003e\n      \u003ctd\u003e0.11840\u003c/td\u003e\n      \u003ctd\u003e0\u003c/td\u003e\n    \u003c/tr\u003e\n    \u003ctr\u003e\n      \u003cth\u003e1\u003c/th\u003e\n      \u003ctd\u003e20.57\u003c/td\u003e\n      \u003ctd\u003e17.77\u003c/td\u003e\n      \u003ctd\u003e132.90\u003c/td\u003e\n      \u003ctd\u003e1326.0\u003c/td\u003e\n      \u003ctd\u003e0.08474\u003c/td\u003e\n      \u003ctd\u003e0\u003c/td\u003e\n    \u003c/tr\u003e\n    \u003ctr\u003e\n      \u003cth\u003e2\u003c/th\u003e\n      \u003ctd\u003e19.69\u003c/td\u003e\n      \u003ctd\u003e21.25\u003c/td\u003e\n      \u003ctd\u003e130.00\u003c/td\u003e\n      \u003ctd\u003e1203.0\u003c/td\u003e\n      \u003ctd\u003e0.10960\u003c/td\u003e\n      \u003ctd\u003e0\u003c/td\u003e\n    \u003c/tr\u003e\n    \u003ctr\u003e\n      \u003cth\u003e3\u003c/th\u003e\n      \u003ctd\u003e11.42\u003c/td\u003e\n      \u003ctd\u003e20.38\u003c/td\u003e\n      \u003ctd\u003e77.58\u003c/td\u003e\n      \u003ctd\u003e386.1\u003c/td\u003e\n      \u003ctd\u003e0.14250\u003c/td\u003e\n      \u003ctd\u003e0\u003c/td\u003e\n    \u003c/tr\u003e\n    \u003ctr\u003e\n      \u003cth\u003e4\u003c/th\u003e\n      \u003ctd\u003e20.29\u003c/td\u003e\n      \u003ctd\u003e14.34\u003c/td\u003e\n      \u003ctd\u003e135.10\u003c/td\u003e\n      \u003ctd\u003e1297.0\u003c/td\u003e\n      \u003ctd\u003e0.10030\u003c/td\u003e\n      \u003ctd\u003e0\u003c/td\u003e\n    \u003c/tr\u003e\n  \u003c/tbody\u003e\n\u003c/table\u003e\n\u003c/div\u003e",
                        "text/plain": "   mean_radius  mean_texture  mean_perimeter  mean_area  mean_smoothness  \\\n0        17.99         10.38          122.80     1001.0          0.11840   \n1        20.57         17.77          132.90     1326.0          0.08474   \n2        19.69         21.25          130.00     1203.0          0.10960   \n3        11.42         20.38           77.58      386.1          0.14250   \n4        20.29         14.34          135.10     1297.0          0.10030   \n\n   diagnosis  \n0          0  \n1          0  \n2          0  \n3          0  \n4          0  "
                    },
                    "execution_count": 2,
                    "metadata": {},
                    "output_type": "execute_result"
                }
            ],
            "source": [
                "df = pd.read_csv('Lab3_Earn_your_Wings/Breast_cancer_data.csv')\n",
                "df.head()"
            ]
        },
        {
            "cell_type": "code",
            "execution_count": 3,
            "metadata": {},
            "outputs": [
                {
                    "data": {
                        "text/html": "\u003cdiv\u003e\n\u003cstyle scoped\u003e\n    .dataframe tbody tr th:only-of-type {\n        vertical-align: middle;\n    }\n\n    .dataframe tbody tr th {\n        vertical-align: top;\n    }\n\n    .dataframe thead th {\n        text-align: right;\n    }\n\u003c/style\u003e\n\u003ctable border=\"1\" class=\"dataframe\"\u003e\n  \u003cthead\u003e\n    \u003ctr style=\"text-align: right;\"\u003e\n      \u003cth\u003e\u003c/th\u003e\n      \u003cth\u003emean_radius\u003c/th\u003e\n      \u003cth\u003emean_texture\u003c/th\u003e\n      \u003cth\u003emean_perimeter\u003c/th\u003e\n      \u003cth\u003emean_area\u003c/th\u003e\n      \u003cth\u003emean_smoothness\u003c/th\u003e\n    \u003c/tr\u003e\n  \u003c/thead\u003e\n  \u003ctbody\u003e\n    \u003ctr\u003e\n      \u003cth\u003e0\u003c/th\u003e\n      \u003ctd\u003e17.99\u003c/td\u003e\n      \u003ctd\u003e10.38\u003c/td\u003e\n      \u003ctd\u003e122.80\u003c/td\u003e\n      \u003ctd\u003e1001.0\u003c/td\u003e\n      \u003ctd\u003e0.11840\u003c/td\u003e\n    \u003c/tr\u003e\n    \u003ctr\u003e\n      \u003cth\u003e1\u003c/th\u003e\n      \u003ctd\u003e20.57\u003c/td\u003e\n      \u003ctd\u003e17.77\u003c/td\u003e\n      \u003ctd\u003e132.90\u003c/td\u003e\n      \u003ctd\u003e1326.0\u003c/td\u003e\n      \u003ctd\u003e0.08474\u003c/td\u003e\n    \u003c/tr\u003e\n    \u003ctr\u003e\n      \u003cth\u003e2\u003c/th\u003e\n      \u003ctd\u003e19.69\u003c/td\u003e\n      \u003ctd\u003e21.25\u003c/td\u003e\n      \u003ctd\u003e130.00\u003c/td\u003e\n      \u003ctd\u003e1203.0\u003c/td\u003e\n      \u003ctd\u003e0.10960\u003c/td\u003e\n    \u003c/tr\u003e\n    \u003ctr\u003e\n      \u003cth\u003e3\u003c/th\u003e\n      \u003ctd\u003e11.42\u003c/td\u003e\n      \u003ctd\u003e20.38\u003c/td\u003e\n      \u003ctd\u003e77.58\u003c/td\u003e\n      \u003ctd\u003e386.1\u003c/td\u003e\n      \u003ctd\u003e0.14250\u003c/td\u003e\n    \u003c/tr\u003e\n    \u003ctr\u003e\n      \u003cth\u003e4\u003c/th\u003e\n      \u003ctd\u003e20.29\u003c/td\u003e\n      \u003ctd\u003e14.34\u003c/td\u003e\n      \u003ctd\u003e135.10\u003c/td\u003e\n      \u003ctd\u003e1297.0\u003c/td\u003e\n      \u003ctd\u003e0.10030\u003c/td\u003e\n    \u003c/tr\u003e\n    \u003ctr\u003e\n      \u003cth\u003e...\u003c/th\u003e\n      \u003ctd\u003e...\u003c/td\u003e\n      \u003ctd\u003e...\u003c/td\u003e\n      \u003ctd\u003e...\u003c/td\u003e\n      \u003ctd\u003e...\u003c/td\u003e\n      \u003ctd\u003e...\u003c/td\u003e\n    \u003c/tr\u003e\n    \u003ctr\u003e\n      \u003cth\u003e564\u003c/th\u003e\n      \u003ctd\u003e21.56\u003c/td\u003e\n      \u003ctd\u003e22.39\u003c/td\u003e\n      \u003ctd\u003e142.00\u003c/td\u003e\n      \u003ctd\u003e1479.0\u003c/td\u003e\n      \u003ctd\u003e0.11100\u003c/td\u003e\n    \u003c/tr\u003e\n    \u003ctr\u003e\n      \u003cth\u003e565\u003c/th\u003e\n      \u003ctd\u003e20.13\u003c/td\u003e\n      \u003ctd\u003e28.25\u003c/td\u003e\n      \u003ctd\u003e131.20\u003c/td\u003e\n      \u003ctd\u003e1261.0\u003c/td\u003e\n      \u003ctd\u003e0.09780\u003c/td\u003e\n    \u003c/tr\u003e\n    \u003ctr\u003e\n      \u003cth\u003e566\u003c/th\u003e\n      \u003ctd\u003e16.60\u003c/td\u003e\n      \u003ctd\u003e28.08\u003c/td\u003e\n      \u003ctd\u003e108.30\u003c/td\u003e\n      \u003ctd\u003e858.1\u003c/td\u003e\n      \u003ctd\u003e0.08455\u003c/td\u003e\n    \u003c/tr\u003e\n    \u003ctr\u003e\n      \u003cth\u003e567\u003c/th\u003e\n      \u003ctd\u003e20.60\u003c/td\u003e\n      \u003ctd\u003e29.33\u003c/td\u003e\n      \u003ctd\u003e140.10\u003c/td\u003e\n      \u003ctd\u003e1265.0\u003c/td\u003e\n      \u003ctd\u003e0.11780\u003c/td\u003e\n    \u003c/tr\u003e\n    \u003ctr\u003e\n      \u003cth\u003e568\u003c/th\u003e\n      \u003ctd\u003e7.76\u003c/td\u003e\n      \u003ctd\u003e24.54\u003c/td\u003e\n      \u003ctd\u003e47.92\u003c/td\u003e\n      \u003ctd\u003e181.0\u003c/td\u003e\n      \u003ctd\u003e0.05263\u003c/td\u003e\n    \u003c/tr\u003e\n  \u003c/tbody\u003e\n\u003c/table\u003e\n\u003cp\u003e569 rows × 5 columns\u003c/p\u003e\n\u003c/div\u003e",
                        "text/plain": "     mean_radius  mean_texture  mean_perimeter  mean_area  mean_smoothness\n0          17.99         10.38          122.80     1001.0          0.11840\n1          20.57         17.77          132.90     1326.0          0.08474\n2          19.69         21.25          130.00     1203.0          0.10960\n3          11.42         20.38           77.58      386.1          0.14250\n4          20.29         14.34          135.10     1297.0          0.10030\n..           ...           ...             ...        ...              ...\n564        21.56         22.39          142.00     1479.0          0.11100\n565        20.13         28.25          131.20     1261.0          0.09780\n566        16.60         28.08          108.30      858.1          0.08455\n567        20.60         29.33          140.10     1265.0          0.11780\n568         7.76         24.54           47.92      181.0          0.05263\n\n[569 rows x 5 columns]"
                    },
                    "execution_count": 3,
                    "metadata": {},
                    "output_type": "execute_result"
                }
            ],
            "source": [
                "X = df.drop(columns='diagnosis')\n",
                "X"
            ]
        },
        {
            "cell_type": "code",
            "execution_count": 4,
            "metadata": {},
            "outputs": [
                {
                    "data": {
                        "text/plain": "0      0\n1      0\n2      0\n3      0\n4      0\n      ..\n564    0\n565    0\n566    0\n567    0\n568    1\nName: diagnosis, Length: 569, dtype: int64"
                    },
                    "execution_count": 4,
                    "metadata": {},
                    "output_type": "execute_result"
                }
            ],
            "source": [
                "Y = df['diagnosis']\n",
                "Y"
            ]
        },
        {
            "attachments": {},
            "cell_type": "markdown",
            "metadata": {},
            "source": [
                "**Compute Entropy of data set**"
            ]
        },
        {
            "cell_type": "code",
            "execution_count": 5,
            "metadata": {},
            "outputs": [
                {
                    "data": {
                        "text/plain": "0.6603163491952275"
                    },
                    "execution_count": 5,
                    "metadata": {},
                    "output_type": "execute_result"
                }
            ],
            "source": [
                "# Compute the maximum entropy value\n",
                "k = Y.unique().size\n",
                "maxE = np.log2(k)\n",
                "p_data = Y.value_counts(normalize=True)           # counts occurrence of each value\n",
                "entropy = scipy.stats.entropy(p_data)  # get entropy from counts\n",
                "\n",
                "# normalize the value to be between 0 and 1.\n",
                "normalizedE = entropy/maxE\n",
                "\n",
                "#TODO: Write code to display the entropy value\n",
                "normalizedE"
            ]
        },
        {
            "attachments": {},
            "cell_type": "markdown",
            "metadata": {},
            "source": [
                "**Testing: entropy-based decision tree classifier averaged over 30 runs**"
            ]
        },
        {
            "cell_type": "code",
            "execution_count": 12,
            "metadata": {},
            "outputs": [],
            "source": [
                "avg_score = 0.0\n",
                "ntimes = 30\n",
                "\n",
                "for i in repeat(None, ntimes):\n",
                "\n",
                "    # train model with 80% of the data\n",
                "    X_train, X_test, Y_train, Y_test = train_test_split(X, Y, test_size=0.2)\n",
                "\n",
                "    # prediction using entropy\n",
                "    # Note: You can replace 'entropy' by 'gini' to get the classifier to use the gini index criterion.\n",
                "    model = DecisionTreeClassifier(criterion='entropy')\n",
                "    model.fit(X_train,Y_train)\n",
                "    predictions = model.predict(X_test)\n",
                "\n",
                "    # compute model accuracy\n",
                "    avg_score += accuracy_score(Y_test, predictions)\n",
                "\n",
                "avg_score /= ntimes"
            ]
        },
        {
            "attachments": {},
            "cell_type": "markdown",
            "metadata": {},
            "source": [
                "**Print Outputs**"
            ]
        },
        {
            "cell_type": "code",
            "execution_count": 13,
            "metadata": {},
            "outputs": [
                {
                    "name": "stdout",
                    "output_type": "stream",
                    "text": "normalized entropy value: 0.660\naverage accuracy score: 0.896\n"
                }
            ],
            "source": [
                "print('normalized entropy value: %.3f'% normalizedE)\n",
                "print('average accuracy score: %.3f' % avg_score)"
            ]
        },
        {
            "attachments": {},
            "cell_type": "markdown",
            "metadata": {},
            "source": [
                "**Output Tree dot file**"
            ]
        },
        {
            "cell_type": "code",
            "execution_count": 14,
            "metadata": {},
            "outputs": [],
            "source": [
                "# output visual (can be visualized with visual code)\n",
                "# The latest version of the .dot file is the one with entropy\n",
                "tree.export_graphviz(model, out_file='Lab3_Earn_your_Wings/EntropyBreastCancer.dot',\n",
                "                    feature_names=['mean_radius', 'mean_texture','mean_perimeter','mean_area','mean_smoothness'],\n",
                "                    label='all',\n",
                "                    rounded=True,\n",
                "                    filled=True)"
            ]
        },
        {
            "cell_type": "code",
            "execution_count": 0,
            "metadata": {},
            "outputs": [],
            "source": [
                ""
            ]
        }
    ]
}
